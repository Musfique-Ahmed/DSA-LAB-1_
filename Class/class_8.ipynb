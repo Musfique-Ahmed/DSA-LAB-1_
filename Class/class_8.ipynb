{
 "cells": [
  {
   "cell_type": "code",
   "execution_count": 1,
   "metadata": {},
   "outputs": [
    {
     "name": "stdout",
     "output_type": "stream",
     "text": [
      "1\n",
      "2\n",
      "2\n"
     ]
    }
   ],
   "source": [
    "class Queue:\n",
    "    def __init__(self):\n",
    "        self.queue = []\n",
    "\n",
    "    def is_empty(self):\n",
    "        return len(self.queue) == 0\n",
    "\n",
    "    def enqueue(self, item):\n",
    "        self.queue.append(item)\n",
    "\n",
    "    def dequeue(self):\n",
    "        if self.is_empty():\n",
    "            raise IndexError(\"Dequeue from an empty queue\")\n",
    "        return self.queue.pop(0)\n",
    "\n",
    "    def peek(self):\n",
    "        if self.is_empty():\n",
    "            raise IndexError(\"Peek from an empty queue\")\n",
    "        return self.queue[0]\n",
    "\n",
    "    def size(self):\n",
    "        return len(self.queue)\n",
    "\n",
    "# Example usage:\n",
    "q = Queue()\n",
    "q.enqueue(1)\n",
    "q.enqueue(2)\n",
    "q.enqueue(3)\n",
    "print(q.dequeue())  # Output: 1\n",
    "print(q.peek())     # Output: 2\n",
    "print(q.size())     # Output: 2"
   ]
  },
  {
   "cell_type": "markdown",
   "metadata": {},
   "source": [
    "### Adjacency Matrix"
   ]
  },
  {
   "cell_type": "code",
   "execution_count": 2,
   "metadata": {},
   "outputs": [
    {
     "name": "stdout",
     "output_type": "stream",
     "text": [
      "Adjacency Matrix:\n",
      "[[0 1 0 0 0 1]\n",
      " [1 0 1 0 0 0]\n",
      " [0 1 0 1 0 0]\n",
      " [0 0 1 0 1 0]\n",
      " [0 0 0 1 0 1]\n",
      " [1 0 0 0 1 0]]\n"
     ]
    }
   ],
   "source": [
    "import numpy as np\n",
    "\n",
    "# Define the adjacency matrix\n",
    "adj_matrix = np.array([\n",
    "    [0, 1, 0, 0, 0, 1],  # A\n",
    "    [1, 0, 1, 0, 0, 0],  # B\n",
    "    [0, 1, 0, 1, 0, 0],  # C\n",
    "    [0, 0, 1, 0, 1, 0],  # D\n",
    "    [0, 0, 0, 1, 0, 1],  # E\n",
    "    [1, 0, 0, 0, 1, 0]   # F\n",
    "])\n",
    "\n",
    "# Print the adjacency matrix\n",
    "print(\"Adjacency Matrix:\")\n",
    "print(adj_matrix)\n"
   ]
  },
  {
   "cell_type": "markdown",
   "metadata": {},
   "source": [
    "### Adjacency List"
   ]
  },
  {
   "cell_type": "code",
   "execution_count": 3,
   "metadata": {},
   "outputs": [
    {
     "name": "stdout",
     "output_type": "stream",
     "text": [
      "A -> ['B', 'C']\n",
      "B -> ['A', 'C', 'D']\n",
      "C -> ['A', 'B', 'F']\n",
      "D -> ['B', 'E']\n",
      "E -> ['F', 'D']\n",
      "F -> ['E', 'C']\n"
     ]
    }
   ],
   "source": [
    "class Graph:\n",
    "    def __init__(self):\n",
    "        self.graph = {}\n",
    "\n",
    "    def add_edge(self, u, v):\n",
    "        if u not in self.graph:\n",
    "            self.graph[u] = []\n",
    "        if v not in self.graph:\n",
    "            self.graph[v] = []\n",
    "\n",
    "        self.graph[u].append(v)\n",
    "        self.graph[v].append(u)\n",
    "\n",
    "    def display_graph(self):\n",
    "        for node in self.graph:\n",
    "            print(f\"{node} -> {self.graph[node]}\")\n",
    "\n",
    "\n",
    "# Create a graph object\n",
    "graph = Graph()\n",
    "\n",
    "# Add edges\n",
    "graph.add_edge('A', 'B')\n",
    "graph.add_edge('A', 'C')\n",
    "graph.add_edge('B', 'C')\n",
    "graph.add_edge('B', 'D')\n",
    "graph.add_edge('E', 'F')\n",
    "graph.add_edge('C', 'F')\n",
    "graph.add_edge('D', 'E')\n",
    "\n",
    "# Display the graph\n",
    "graph.display_graph()\n"
   ]
  },
  {
   "cell_type": "markdown",
   "metadata": {},
   "source": [
    "### Breadth First Search\n",
    "\n",
    "Hrizontal triverse\n",
    "\n",
    "Always use Queue; as we need first in first out.\n",
    "\n",
    "**Black:** Node stored in visited list\n",
    "\n",
    "**Gray:** Node stored in Queue\n",
    "\n",
    "**White:** New node"
   ]
  },
  {
   "cell_type": "code",
   "execution_count": 4,
   "metadata": {},
   "outputs": [],
   "source": [
    "def bfs(graph, start):\n",
    "    visited = set()\n",
    "    queue = Queue()\n",
    "    queue.enqueue(start)\n",
    "    visited.add(start)\n",
    "\n",
    "    while not queue.is_empty():\n",
    "        node = queue.dequeue()\n",
    "        print(node, end=' ')\n",
    "\n",
    "        for neighbour in graph[node]:\n",
    "            if neighbour not in visited:\n",
    "                queue.enqueue(neighbour)\n",
    "                visited.add(neighbour)"
   ]
  },
  {
   "cell_type": "code",
   "execution_count": 5,
   "metadata": {},
   "outputs": [
    {
     "name": "stdout",
     "output_type": "stream",
     "text": [
      "S -> ['R', 'W']\n",
      "R -> ['S', 'V']\n",
      "W -> ['S', 'T', 'X']\n",
      "V -> ['R']\n",
      "T -> ['W', 'X', 'U']\n",
      "X -> ['W', 'T', 'U', 'Y']\n",
      "U -> ['T', 'X', 'Y']\n",
      "Y -> ['X', 'U']\n"
     ]
    }
   ],
   "source": [
    "visited = [\"S\", \"R\", \"V\", \"W\", \"T\", \"X\", \"U\", \"Y\"]\n",
    "\n",
    "# Create a graph object\n",
    "graph = Graph()\n",
    "\n",
    "# Add edges\n",
    "graph.add_edge('S', 'R')\n",
    "graph.add_edge('S', 'W')\n",
    "graph.add_edge('R', 'V')\n",
    "graph.add_edge('W', 'T')\n",
    "graph.add_edge('W', 'X')\n",
    "graph.add_edge('T', 'X')\n",
    "graph.add_edge('T', 'U')\n",
    "graph.add_edge('X', 'U')\n",
    "graph.add_edge('X', 'Y')\n",
    "graph.add_edge('U', 'Y')\n",
    "\n",
    "# Display the graph\n",
    "graph.display_graph()\n"
   ]
  },
  {
   "cell_type": "code",
   "execution_count": 6,
   "metadata": {},
   "outputs": [
    {
     "name": "stdout",
     "output_type": "stream",
     "text": [
      "Graph:\n",
      "1 -> [2, 4]\n",
      "2 -> [1, 4]\n",
      "4 -> [1, 2, 5]\n",
      "3 -> [5]\n",
      "5 -> [3, 4]\n",
      "\n",
      "BFS traversal starting from node 1:\n",
      "[1, 2, 4, 5, 3]\n"
     ]
    }
   ],
   "source": [
    "class Graph:\n",
    "    def __init__(self):\n",
    "        self.graph = {}\n",
    "\n",
    "    def add_edge(self, u, v):\n",
    "        if u not in self.graph:\n",
    "            self.graph[u] = []\n",
    "        if v not in self.graph:\n",
    "            self.graph[v] = []\n",
    "       \n",
    "        self.graph[u].append(v)\n",
    "        self.graph[v].append(u)  \n",
    "\n",
    "    def display_graph(self):\n",
    "        for node in self.graph:\n",
    "            print(f\"{node} -> {self.graph[node]}\")\n",
    "   \n",
    "    def bfs(self, start):\n",
    "        visited = set()\n",
    "       \n",
    "        queue = Queue()\n",
    "       \n",
    "        queue.enqueue(start)\n",
    "        visited.add(start)\n",
    "       \n",
    "        bfs_result = []\n",
    "       \n",
    "        while not queue.is_empty():\n",
    "            node = queue.dequeue()\n",
    "            bfs_result.append(node)\n",
    "           \n",
    "            for neighbor in self.graph[node]:\n",
    "                if neighbor not in visited:\n",
    "                    visited.add(neighbor)\n",
    "                    queue.enqueue(neighbor)\n",
    "       \n",
    "        return bfs_result\n",
    "\n",
    "\n",
    "class Node:\n",
    "    def __init__(self, data):\n",
    "        self.data = data\n",
    "        self.next = None\n",
    "\n",
    "class Queue:\n",
    "    def __init__(self):\n",
    "        self.front = None\n",
    "        self.rear = None\n",
    "        self.size = 0\n",
    "\n",
    "    def enqueue(self, data):\n",
    "        new_node = Node(data)\n",
    "        if self.rear is None:\n",
    "            self.front = self.rear = new_node\n",
    "        else:\n",
    "            self.rear.next = new_node\n",
    "            self.rear = new_node\n",
    "        self.size += 1\n",
    "\n",
    "    def dequeue(self):\n",
    "        if self.is_empty():\n",
    "            raise IndexError(\"Dequeue from an empty queue\")\n",
    "        dequeued_data = self.front.data\n",
    "        self.front = self.front.next\n",
    "        if self.front is None:\n",
    "            self.rear = None\n",
    "        self.size -= 1\n",
    "        return dequeued_data\n",
    "\n",
    "    def peek(self):\n",
    "        if self.is_empty():\n",
    "            raise IndexError(\"Peek from an empty queue\")\n",
    "        return self.front.data\n",
    "\n",
    "    def is_empty(self):\n",
    "        return self.front is None\n",
    "\n",
    "    def get_size(self):\n",
    "        return self.size\n",
    "\n",
    "\n",
    "\n",
    "g = Graph()\n",
    "\n",
    "g.add_edge(1, 2)\n",
    "g.add_edge(1, 4)\n",
    "g.add_edge(2, 4)\n",
    "g.add_edge(3, 5)\n",
    "g.add_edge(4, 5)\n",
    "\n",
    "print(\"Graph:\")\n",
    "g.display_graph()\n",
    "\n",
    "print(\"\\nBFS traversal starting from node 1:\")\n",
    "bfs_result = g.bfs(1)\n",
    "print(bfs_result)  "
   ]
  }
 ],
 "metadata": {
  "kernelspec": {
   "display_name": "Python 3",
   "language": "python",
   "name": "python3"
  },
  "language_info": {
   "codemirror_mode": {
    "name": "ipython",
    "version": 3
   },
   "file_extension": ".py",
   "mimetype": "text/x-python",
   "name": "python",
   "nbconvert_exporter": "python",
   "pygments_lexer": "ipython3",
   "version": "3.12.8"
  }
 },
 "nbformat": 4,
 "nbformat_minor": 2
}
