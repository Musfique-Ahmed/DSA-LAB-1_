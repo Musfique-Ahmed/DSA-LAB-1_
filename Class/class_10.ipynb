{
 "cells": [
  {
   "cell_type": "markdown",
   "metadata": {},
   "source": [
    "# BFS"
   ]
  },
  {
   "cell_type": "code",
   "execution_count": 1,
   "metadata": {},
   "outputs": [
    {
     "name": "stdout",
     "output_type": "stream",
     "text": [
      "Graph:\n",
      "1 -> [2, 4]\n",
      "2 -> [1, 4]\n",
      "4 -> [1, 2, 5]\n",
      "3 -> [5]\n",
      "5 -> [3, 4]\n",
      "\n",
      "BFS traversal starting from node 1:\n",
      "[1, 2, 4, 5, 3]\n"
     ]
    }
   ],
   "source": [
    "class Graph:\n",
    "    def __init__(self):\n",
    "        self.graph = {}\n",
    "\n",
    "    def add_edge(self, u, v):\n",
    "        if u not in self.graph:\n",
    "            self.graph[u] = []\n",
    "        if v not in self.graph:\n",
    "            self.graph[v] = []\n",
    "       \n",
    "        self.graph[u].append(v)\n",
    "        self.graph[v].append(u)  \n",
    "\n",
    "    def display_graph(self):\n",
    "        for node in self.graph:\n",
    "            print(f\"{node} -> {self.graph[node]}\")\n",
    "   \n",
    "    def bfs(self, start):\n",
    "        visited = set()\n",
    "       \n",
    "        queue = Queue()\n",
    "       \n",
    "        queue.enqueue(start)\n",
    "        visited.add(start)\n",
    "       \n",
    "        bfs_result = []\n",
    "       \n",
    "        while not queue.is_empty():\n",
    "            node = queue.dequeue()\n",
    "            bfs_result.append(node)\n",
    "           \n",
    "            for neighbor in self.graph[node]:\n",
    "                if neighbor not in visited:\n",
    "                    visited.add(neighbor)\n",
    "                    queue.enqueue(neighbor)\n",
    "       \n",
    "        return bfs_result\n",
    "\n",
    "\n",
    "class Node:\n",
    "    def __init__(self, data):\n",
    "        self.data = data\n",
    "        self.next = None\n",
    "\n",
    "class Queue:\n",
    "    def __init__(self):\n",
    "        self.front = None\n",
    "        self.rear = None\n",
    "        self.size = 0\n",
    "\n",
    "    def enqueue(self, data):\n",
    "        new_node = Node(data)\n",
    "        if self.rear is None:\n",
    "            self.front = self.rear = new_node\n",
    "        else:\n",
    "            self.rear.next = new_node\n",
    "            self.rear = new_node\n",
    "        self.size += 1\n",
    "\n",
    "    def dequeue(self):\n",
    "        if self.is_empty():\n",
    "            raise IndexError(\"Dequeue from an empty queue\")\n",
    "        dequeued_data = self.front.data\n",
    "        self.front = self.front.next\n",
    "        if self.front is None:\n",
    "            self.rear = None\n",
    "        self.size -= 1\n",
    "        return dequeued_data\n",
    "\n",
    "    def peek(self):\n",
    "        if self.is_empty():\n",
    "            raise IndexError(\"Peek from an empty queue\")\n",
    "        return self.front.data\n",
    "\n",
    "    def is_empty(self):\n",
    "        return self.front is None\n",
    "\n",
    "    def get_size(self):\n",
    "        return self.size\n",
    "\n",
    "\n",
    "\n",
    "g = Graph()\n",
    "\n",
    "g.add_edge(1, 2)\n",
    "g.add_edge(1, 4)\n",
    "g.add_edge(2, 4)\n",
    "g.add_edge(3, 5)\n",
    "g.add_edge(4, 5)\n",
    "\n",
    "print(\"Graph:\")\n",
    "g.display_graph()\n",
    "\n",
    "print(\"\\nBFS traversal starting from node 1:\")\n",
    "bfs_result = g.bfs(1)\n",
    "print(bfs_result)  "
   ]
  },
  {
   "cell_type": "markdown",
   "metadata": {},
   "source": [
    "# DFS"
   ]
  },
  {
   "cell_type": "code",
   "execution_count": null,
   "metadata": {},
   "outputs": [],
   "source": [
    "def dfs(self, start):\n",
    "    visited = set()\n",
    "\n",
    "    stack = Stack()\n",
    "\n",
    "    "
   ]
  },
  {
   "cell_type": "markdown",
   "metadata": {},
   "source": [
    "inorder\n",
    "\n",
    "preorder\n",
    "\n",
    "postorder"
   ]
  },
  {
   "cell_type": "code",
   "execution_count": null,
   "metadata": {},
   "outputs": [],
   "source": [
    "class Node:\n",
    "    def __init__(self, key):\n",
    "        self.left= None\n",
    "        self.right = None\n",
    "        self.value = key\n",
    "\n",
    "    def pre_order_traversal(root):\n",
    "        "
   ]
  },
  {
   "cell_type": "code",
   "execution_count": null,
   "metadata": {},
   "outputs": [],
   "source": []
  }
 ],
 "metadata": {
  "kernelspec": {
   "display_name": "Python 3",
   "language": "python",
   "name": "python3"
  },
  "language_info": {
   "codemirror_mode": {
    "name": "ipython",
    "version": 3
   },
   "file_extension": ".py",
   "mimetype": "text/x-python",
   "name": "python",
   "nbconvert_exporter": "python",
   "pygments_lexer": "ipython3",
   "version": "3.12.8"
  }
 },
 "nbformat": 4,
 "nbformat_minor": 2
}
