{
 "cells": [
  {
   "cell_type": "markdown",
   "metadata": {},
   "source": [
    "# Stacks\n",
    "\n",
    "last in fast out\n"
   ]
  },
  {
   "cell_type": "code",
   "execution_count": 7,
   "metadata": {},
   "outputs": [
    {
     "name": "stdout",
     "output_type": "stream",
     "text": [
      "[1, 2, 3]\n",
      "3\n",
      "[1, 2]\n"
     ]
    },
    {
     "data": {
      "text/plain": [
       "2"
      ]
     },
     "execution_count": 7,
     "metadata": {},
     "output_type": "execute_result"
    }
   ],
   "source": [
    "browsing_session = []\n",
    "browsing_session.append(1)\n",
    "browsing_session.append(2)\n",
    "browsing_session.append(3)\n",
    "print(browsing_session)\n",
    "last = browsing_session.pop()\n",
    "print(last)\n",
    "print(browsing_session)\n",
    "if not browsing_session:\n",
    "    print(\"Disable\")\n",
    "browsing_session[-1]"
   ]
  },
  {
   "cell_type": "code",
   "execution_count": 5,
   "metadata": {},
   "outputs": [
    {
     "name": "stdout",
     "output_type": "stream",
     "text": [
      "Top element: 30\n",
      "Stack size: 3\n",
      "Top element: 20\n",
      "Popped element: 20\n",
      "Top element: 30\n",
      "Stack size after pop: 2\n"
     ]
    }
   ],
   "source": [
    "class Stack:\n",
    "    def __init__(self):\n",
    "        self.items = []\n",
    "\n",
    "    def push(self, item):\n",
    "        self.items.append(item)\n",
    "\n",
    "    def pop(self):\n",
    "        if not self.is_empty():\n",
    "            return self.items.pop()\n",
    "        else:\n",
    "            print(\"Pop from an empty stack\")\n",
    "\n",
    "    def peek(self):\n",
    "        if not self.is_empty():\n",
    "            return self.items[-1]\n",
    "        else:\n",
    "            print(\"Peek from an empty stack\")\n",
    "\n",
    "    def is_empty(self):\n",
    "        return len(self.items) == 0\n",
    "        \n",
    "    def size(self):\n",
    "        return len(self.items)\n",
    "   \n",
    "    def replace(self):\n",
    "        if len(self.items) < 2:\n",
    "            print(\"Not enough elements in the stack to replace.\")\n",
    "            return\n",
    "        \n",
    "        top1 = self.pop()  \n",
    "        top2 = self.pop()  \n",
    "        self.push(top1)    \n",
    "        self.push(top2)    \n",
    "\n",
    "\n",
    "\n",
    "\n",
    "stack = Stack()\n",
    "stack.push(10)\n",
    "stack.push(20)\n",
    "stack.push(30)\n",
    "print(\"Top element:\", stack.peek())\n",
    "stack.replace()\n",
    "print(\"Stack size:\", stack.size())\n",
    "print(\"Top element:\", stack.peek())\n",
    "print(\"Popped element:\", stack.pop())\n",
    "print(\"Top element:\", stack.peek())\n",
    "print(\"Stack size after pop:\", stack.size())\n",
    " \n",
    "#######\n"
   ]
  },
  {
   "cell_type": "code",
   "execution_count": 6,
   "metadata": {},
   "outputs": [
    {
     "name": "stdout",
     "output_type": "stream",
     "text": [
      "Pushed 10 onto the stack.\n",
      "Pushed 20 onto the stack.\n",
      "Pushed 30 onto the stack.\n",
      "Top element is: 30\n",
      "Stack size: 3\n",
      "Popped 30 from the stack.\n",
      "Stack size: 2\n",
      "Popped 20 from the stack.\n",
      "Popped 10 from the stack.\n",
      "Stack size: 0\n",
      "Stack underflow! No elements to pop.\n"
     ]
    }
   ],
   "source": [
    " \n",
    "class Node:\n",
    "    def __init__(self, data):\n",
    "        self.data = data\n",
    "        self.next = None\n",
    "\n",
    "class Stack:\n",
    "    def __init__(self):\n",
    "        self.top = None\n",
    "\n",
    "    def is_empty(self):\n",
    "        return self.top is None\n",
    "\n",
    "    def push(self, data):\n",
    "        new_node = Node(data)\n",
    "        new_node.next = self.top\n",
    "        self.top = new_node\n",
    "        print(f\"Pushed {data} onto the stack.\")\n",
    "\n",
    "    def pop(self):\n",
    "        if self.is_empty():\n",
    "            print(\"Stack underflow! No elements to pop.\")\n",
    "            return None\n",
    "        popped_data = self.top.data\n",
    "        self.top = self.top.next\n",
    "        print(f\"Popped {popped_data} from the stack.\")\n",
    "        return popped_data\n",
    "\n",
    "    def peek(self):\n",
    "        if self.is_empty():\n",
    "            print(\"Stack is empty! Nothing to peek.\")\n",
    "            return None\n",
    "        return self.top.data\n",
    "   \n",
    "    def size(self):\n",
    "        count = 0\n",
    "        current = self.top\n",
    "        while current:\n",
    "            count += 1\n",
    "            current = current.next\n",
    "        return count\n",
    "\n",
    "\n",
    "\n",
    "stack = Stack()\n",
    "stack.push(10)\n",
    "stack.push(20)\n",
    "stack.push(30)\n",
    "\n",
    "print(\"Top element is:\", stack.peek())\n",
    "print(\"Stack size:\", stack.size())\n",
    "stack.pop()\n",
    "\n",
    "print(\"Stack size:\", stack.size())\n",
    "stack.pop()\n",
    "stack.pop()\n",
    "print(\"Stack size:\", stack.size())\n",
    "stack.pop()"
   ]
  },
  {
   "cell_type": "code",
   "execution_count": null,
   "metadata": {},
   "outputs": [],
   "source": [
    "###########problem solving\n",
    " \n",
    " \n",
    "class Node:\n",
    "    def __init__(self, data):\n",
    "        self.data = data\n",
    "        self.next = None\n",
    "\n",
    "class Stack:\n",
    "    def __init__(self):\n",
    "        self.top = None\n",
    "\n",
    "    def is_empty(self):\n",
    "        return self.top is None\n",
    "\n",
    "    def push(self, data):\n",
    "        new_node = Node(data)\n",
    "        new_node.next = self.top\n",
    "        self.top = new_node\n",
    "\n",
    "    def pop(self):\n",
    "        if self.is_empty():\n",
    "            return None\n",
    "        popped_data = self.top.data\n",
    "        self.top = self.top.next\n",
    "       \n",
    "        return popped_data\n",
    "\n",
    "    def peek(self):\n",
    "        if self.is_empty():\n",
    "            return None\n",
    "        return self.top.data\n",
    "   \n",
    "    def size(self):\n",
    "        count = 0\n",
    "        current = self.top\n",
    "        while current:\n",
    "            count += 1\n",
    "            current = current.next\n",
    "        return count\n",
    "\n",
    "\n",
    "def are_brackets_balanced(s):\n",
    "    stack = Stack()\n",
    "    matching_bracket = {')': '(', '}': '{', ']': '['}\n",
    "\n",
    "    for char in s:\n",
    "        if char in \"({[\":\n",
    "            stack.push(char)\n",
    "        elif char in \")}]\":\n",
    "            if stack.is_empty() or stack.pop() != matching_bracket[char]:\n",
    "                return False\n",
    "\n",
    "    return stack.is_empty()\n",
    "\n",
    "s1 = \"[()]{}{[()()]()}\"\n",
    "s2 = \"[(])\"\n",
    "\n",
    "print(f\"Input: {s1}, Output: {are_brackets_balanced(s1)}\")\n",
    "print(f\"Input: {s2}, Output: {are_brackets_balanced(s2)}\")"
   ]
  },
  {
   "cell_type": "code",
   "execution_count": 12,
   "metadata": {},
   "outputs": [
    {
     "name": "stdout",
     "output_type": "stream",
     "text": [
      "Top element is: 30\n",
      "Stack size: 3\n",
      "Input: [()]{}{[()()]()}, Output: False\n",
      "Input: [(]), Output: False\n"
     ]
    }
   ],
   "source": [
    "class Node:\n",
    "    def __init__(self, data):\n",
    "        self.data = data\n",
    "        self.next = None\n",
    "\n",
    "\n",
    "class Stack:\n",
    "    def __init__(self):\n",
    "        self.top = None\n",
    "\n",
    "    def is_empty(self):\n",
    "        return self.top is None\n",
    "\n",
    "    def push(self, data):\n",
    "        new_node = Node(data)\n",
    "        new_node.next = self.top\n",
    "        self.top = new_node\n",
    "\n",
    "    def pop(self):\n",
    "        if self.is_empty():\n",
    "            return None\n",
    "        popped_data = self.top.data\n",
    "        self.top = self.top.next\n",
    "        return popped_data\n",
    "\n",
    "    def peek(self):\n",
    "        if self.is_empty():\n",
    "            return None\n",
    "        return self.top.data\n",
    "\n",
    "    def size(self):\n",
    "        count = 0\n",
    "        current = self.top\n",
    "        while current:\n",
    "            count += 1\n",
    "            current = current.next\n",
    "        return count\n",
    "\n",
    "\n",
    "    def display(self):\n",
    "        \"\"\"\n",
    "        Displays the elements of the stack from top to bottom.\n",
    "        \"\"\"\n",
    "        if self.is_empty():\n",
    "            print(\"Stack is empty.\")\n",
    "            return\n",
    "        current = self.top\n",
    "        print(\"Stack (top to bottom):\", end=\" \")\n",
    "        while current:\n",
    "            print(current.data, end=\" -> \")\n",
    "            current = current.next\n",
    "        print(\"None\")\n",
    "\n",
    "    def reverse(self):\n",
    "        \"\"\"\n",
    "        Reverses the stack using an iterative approach.\n",
    "        \"\"\"\n",
    "        prev = None\n",
    "        current = self.top\n",
    "        while current:\n",
    "            next_node = current.next  # Store the next node\n",
    "            current.next = prev      # Reverse the link\n",
    "            prev = current           # Move prev to current\n",
    "            current = next_node      # Move current to next\n",
    "        self.top = prev\n",
    "\n",
    "    def are_brackets_balanced(self, s):\n",
    "        \"\"\"\n",
    "        Checks if the brackets in the input string are balanced.\n",
    "        \"\"\"\n",
    "        matching_bracket = {')': '(', '}': '{', ']': '['}\n",
    "\n",
    "        for char in s:\n",
    "            if char in \"({[\":\n",
    "                self.push(char)\n",
    "            elif char in \")}]\":\n",
    "                if self.is_empty() or self.pop() != matching_bracket[char]:\n",
    "                    return False\n",
    "\n",
    "        return self.is_empty()\n",
    "\n",
    "\n",
    "# Example Usage\n",
    "stack = Stack()\n",
    "stack.push(10)\n",
    "stack.push(20)\n",
    "stack.push(30)\n",
    "\n",
    "print(\"Top element is:\", stack.peek())\n",
    "print(\"Stack size:\", stack.size()) \n",
    "s1 = \"[()]{}{[()()]()}\"\n",
    "s2 = \"[(])\"\n",
    "\n",
    "print(f\"Input: {s1}, Output: {stack.are_brackets_balanced(s1)}\")\n",
    "print(f\"Input: {s2}, Output: {stack.are_brackets_balanced(s2)}\")"
   ]
  },
  {
   "cell_type": "markdown",
   "metadata": {},
   "source": [
    "# Queue"
   ]
  },
  {
   "cell_type": "code",
   "execution_count": 10,
   "metadata": {},
   "outputs": [
    {
     "name": "stdout",
     "output_type": "stream",
     "text": [
      "[1, 2, 3, 4, 5]\n"
     ]
    },
    {
     "data": {
      "text/plain": [
       "1"
      ]
     },
     "execution_count": 10,
     "metadata": {},
     "output_type": "execute_result"
    }
   ],
   "source": [
    "class Queue:\n",
    "  def __init__(self):\n",
    "    self.items = []\n",
    "\n",
    "  def enqueue(self, item):\n",
    "    self.items.append(item)\n",
    "\n",
    "  def dequeue(self):\n",
    "    if self.is_empty():\n",
    "      print(\"Dequeue from an empy queue\")\n",
    "    else:\n",
    "      return self.items.pop(0)\n",
    "\n",
    "  def is_empty(self):\n",
    "    return len(self.items) == 0\n",
    "\n",
    "  def peek(self):\n",
    "    if not self.is_empty():\n",
    "      print(\"peek from an empty queue\")\n",
    "    else:\n",
    "      return self.items[0]\n",
    "\n",
    "  def size(self):\n",
    "    return len(self.items)\n",
    "  \n",
    "  def display(self):\n",
    "    print(self.items)\n",
    "\n",
    "\n",
    "\n",
    "queue = Queue()\n",
    "queue.enqueue(1)\n",
    "queue.enqueue(2)\n",
    "queue.enqueue(3)\n",
    "queue.enqueue(4)\n",
    "queue.enqueue(5)\n",
    "queue.display()\n",
    "queue.dequeue()\n"
   ]
  },
  {
   "cell_type": "code",
   "execution_count": null,
   "metadata": {},
   "outputs": [],
   "source": [
    "class Node:\n",
    "    def __init__(self):\n",
    "        pass"
   ]
  },
  {
   "cell_type": "code",
   "execution_count": null,
   "metadata": {},
   "outputs": [],
   "source": [
    "\n",
    "\n"
   ]
  },
  {
   "cell_type": "code",
   "execution_count": 21,
   "metadata": {},
   "outputs": [
    {
     "name": "stdout",
     "output_type": "stream",
     "text": [
      "['h', 'e', 'l', 'l', 'o']\n"
     ]
    }
   ],
   "source": [
    "stack = []\n",
    "\n",
    "\n",
    "def isValidExpression(given_string, stack):\n",
    "    for i in given_string:\n",
    "        stack.append(i)\n",
    "    print(stack)\n",
    "\n",
    "\n",
    "given_string = input()\n",
    "isValidExpression(given_string, stack)"
   ]
  },
  {
   "cell_type": "code",
   "execution_count": 24,
   "metadata": {},
   "outputs": [
    {
     "name": "stdout",
     "output_type": "stream",
     "text": [
      "((4+1)*4): Valid\n",
      "((2*2)): Valid\n",
      "((9)-(3+9)): Valid\n",
      "((2+3)*4): Invalid\n",
      "((2+)*2): Valid\n",
      "(): Invalid\n",
      "(2+): Valid\n",
      "(+): Valid\n"
     ]
    }
   ],
   "source": [
    "def isValidExpression(expression):\n",
    "    # Helper function to check if a string is a palindrome\n",
    "    def isPalindrome(s):\n",
    "        return s == s[::-1]\n",
    "\n",
    "#(3+[5-{4*3}])\n",
    "    stack = []\n",
    "    has_operator = False\n",
    "    digits = \"\"\n",
    "\n",
    "    for char in expression:\n",
    "        if char in \"({[\":\n",
    "            stack.append(char)\n",
    "        elif char in \")}]\": #char = (\n",
    "            if not stack:\n",
    "                return False\n",
    "            top = stack.pop() #top =  \")\"\n",
    "            if not ((top == '(' and char == ')') or (top == '{' and char == '}') or (top == '[' and char == ']')):\n",
    "                return False\n",
    "        elif char.isdigit():\n",
    "            digits += char\n",
    "        elif char in \"+-*/\":\n",
    "            has_operator = True\n",
    "\n",
    "    # Condition 1: All parentheses are properly closed and ordered\n",
    "    if stack:\n",
    "        return False\n",
    "\n",
    "    # Condition 2: No empty sets of parentheses\n",
    "    if \"()\" in expression or \"[]\" in expression or \"{}\" in expression:\n",
    "        return False\n",
    "\n",
    "    # Condition 3: Digits should form a palindrome\n",
    "    if digits and not isPalindrome(digits):\n",
    "        return False\n",
    "\n",
    "    # Condition 4: At least one valid operator\n",
    "    if not has_operator:\n",
    "        return False\n",
    "\n",
    "    return True\n",
    "\n",
    "\n",
    "# Test examples\n",
    "examples = [\n",
    "    \"((4+1)*4)\",  # Valid\n",
    "    \"((2*2))\",    # Valid\n",
    "    \"((9)-(3+9))\",  # Valid\n",
    "    \"((2+3)*4)\",  # Invalid: Digits not palindrome\n",
    "    \"((2+)*2)\",   # Invalid: Missing operand\n",
    "    \"()\",         # Invalid: No expression inside\n",
    "    \"(2+)\",       # Invalid: No end operand\n",
    "    \"(+)\",        # Invalid: No digit\n",
    "]\n",
    "\n",
    "for example in examples:\n",
    "    print(f\"{example}: {'Valid' if isValidExpression(example) else 'Invalid'}\")\n"
   ]
  },
  {
   "cell_type": "code",
   "execution_count": 23,
   "metadata": {},
   "outputs": [
    {
     "name": "stdout",
     "output_type": "stream",
     "text": [
      "hitasfiya\n"
     ]
    }
   ],
   "source": [
    "main = \"hi\"\n",
    "\n",
    "# main = main + \"Tasfiya\"\n",
    "main += \"tasfiya\"\n",
    "\n",
    "print(main)"
   ]
  },
  {
   "cell_type": "code",
   "execution_count": null,
   "metadata": {},
   "outputs": [],
   "source": [
    "name = \"Anik\"\n",
    "\n",
    "if \"e\" in name:\n",
    "    "
   ]
  }
 ],
 "metadata": {
  "kernelspec": {
   "display_name": "Python 3",
   "language": "python",
   "name": "python3"
  },
  "language_info": {
   "codemirror_mode": {
    "name": "ipython",
    "version": 3
   },
   "file_extension": ".py",
   "mimetype": "text/x-python",
   "name": "python",
   "nbconvert_exporter": "python",
   "pygments_lexer": "ipython3",
   "version": "3.12.8"
  }
 },
 "nbformat": 4,
 "nbformat_minor": 2
}
