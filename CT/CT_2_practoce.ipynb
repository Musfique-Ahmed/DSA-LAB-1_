{
 "cells": [
  {
   "cell_type": "markdown",
   "metadata": {},
   "source": [
    "# Stacks\n",
    "\n",
    "last in fast out\n"
   ]
  },
  {
   "cell_type": "code",
   "execution_count": 4,
   "metadata": {},
   "outputs": [
    {
     "name": "stdout",
     "output_type": "stream",
     "text": [
      "[1, 2, 3]\n",
      "3\n",
      "[1, 2]\n"
     ]
    },
    {
     "data": {
      "text/plain": [
       "2"
      ]
     },
     "execution_count": 4,
     "metadata": {},
     "output_type": "execute_result"
    }
   ],
   "source": [
    "browsing_session = []\n",
    "browsing_session.append(1)\n",
    "browsing_session.append(2)\n",
    "browsing_session.append(3)\n",
    "print(browsing_session)\n",
    "last = browsing_session.pop()\n",
    "print(last)\n",
    "print(browsing_session)\n",
    "if not browsing_session:\n",
    "    print(\"Disable\")\n",
    "browsing_session[-1]"
   ]
  },
  {
   "cell_type": "code",
   "execution_count": 5,
   "metadata": {},
   "outputs": [
    {
     "name": "stdout",
     "output_type": "stream",
     "text": [
      "Top element: 30\n",
      "Stack size: 3\n",
      "Top element: 20\n",
      "Popped element: 20\n",
      "Top element: 30\n",
      "Stack size after pop: 2\n"
     ]
    }
   ],
   "source": [
    "class Stack:\n",
    "    def __init__(self):\n",
    "        self.items = []\n",
    "    def push(self, item):\n",
    "        self.items.append(item)\n",
    "    def pop(self):\n",
    "        if not self.is_empty():\n",
    "            return self.items.pop()\n",
    "        else:\n",
    "            print(\"Pop from an empty stack\")\n",
    "    def peek(self):\n",
    "        if not self.is_empty():\n",
    "            return self.items[-1]\n",
    "        else:\n",
    "            print(\"Peek from an empty stack\")\n",
    "    def is_empty(self):\n",
    "        return len(self.items) == 0\n",
    "    def size(self):\n",
    "        return len(self.items)\n",
    "   \n",
    "    def replace(self):\n",
    "     \n",
    "      if len(self.items) < 2:\n",
    "         print(\"Not enough elements in the stack to replace.\")\n",
    "         return\n",
    "     \n",
    "      top1 = self.pop()  \n",
    "      top2 = self.pop()  \n",
    "      self.push(top1)    \n",
    "      self.push(top2)    \n",
    "\n",
    "\n",
    "\n",
    "\n",
    "stack = Stack()\n",
    "stack.push(10)\n",
    "stack.push(20)\n",
    "stack.push(30)\n",
    "print(\"Top element:\", stack.peek())\n",
    "stack.replace()\n",
    "print(\"Stack size:\", stack.size())\n",
    "print(\"Top element:\", stack.peek())\n",
    "print(\"Popped element:\", stack.pop())\n",
    "print(\"Top element:\", stack.peek())\n",
    "print(\"Stack size after pop:\", stack.size())\n",
    " \n",
    "#######\n"
   ]
  },
  {
   "cell_type": "code",
   "execution_count": 6,
   "metadata": {},
   "outputs": [
    {
     "name": "stdout",
     "output_type": "stream",
     "text": [
      "Pushed 10 onto the stack.\n",
      "Pushed 20 onto the stack.\n",
      "Pushed 30 onto the stack.\n",
      "Top element is: 30\n",
      "Stack size: 3\n",
      "Popped 30 from the stack.\n",
      "Stack size: 2\n",
      "Popped 20 from the stack.\n",
      "Popped 10 from the stack.\n",
      "Stack size: 0\n",
      "Stack underflow! No elements to pop.\n"
     ]
    }
   ],
   "source": [
    " \n",
    "class Node:\n",
    "    def __init__(self, data):\n",
    "        self.data = data\n",
    "        self.next = None\n",
    "\n",
    "class Stack:\n",
    "    def __init__(self):\n",
    "        self.top = None\n",
    "\n",
    "    def is_empty(self):\n",
    "        return self.top is None\n",
    "\n",
    "    def push(self, data):\n",
    "        new_node = Node(data)\n",
    "        new_node.next = self.top\n",
    "        self.top = new_node\n",
    "        print(f\"Pushed {data} onto the stack.\")\n",
    "\n",
    "    def pop(self):\n",
    "        if self.is_empty():\n",
    "            print(\"Stack underflow! No elements to pop.\")\n",
    "            return None\n",
    "        popped_data = self.top.data\n",
    "        self.top = self.top.next\n",
    "        print(f\"Popped {popped_data} from the stack.\")\n",
    "        return popped_data\n",
    "\n",
    "    def peek(self):\n",
    "        if self.is_empty():\n",
    "            print(\"Stack is empty! Nothing to peek.\")\n",
    "            return None\n",
    "        return self.top.data\n",
    "   \n",
    "    def size(self):\n",
    "        count = 0\n",
    "        current = self.top\n",
    "        while current:\n",
    "            count += 1\n",
    "            current = current.next\n",
    "        return count\n",
    "\n",
    "\n",
    "\n",
    "stack = Stack()\n",
    "stack.push(10)\n",
    "stack.push(20)\n",
    "stack.push(30)\n",
    "\n",
    "print(\"Top element is:\", stack.peek())\n",
    "print(\"Stack size:\", stack.size())\n",
    "stack.pop()\n",
    "\n",
    "print(\"Stack size:\", stack.size())\n",
    "stack.pop()\n",
    "stack.pop()\n",
    "print(\"Stack size:\", stack.size())\n",
    "stack.pop()"
   ]
  }
 ],
 "metadata": {
  "kernelspec": {
   "display_name": "Python 3",
   "language": "python",
   "name": "python3"
  },
  "language_info": {
   "codemirror_mode": {
    "name": "ipython",
    "version": 3
   },
   "file_extension": ".py",
   "mimetype": "text/x-python",
   "name": "python",
   "nbconvert_exporter": "python",
   "pygments_lexer": "ipython3",
   "version": "3.12.8"
  }
 },
 "nbformat": 4,
 "nbformat_minor": 2
}
