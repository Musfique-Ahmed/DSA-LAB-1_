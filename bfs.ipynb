{
 "cells": [
  {
   "cell_type": "markdown",
   "metadata": {},
   "source": [
    "Creating adjacency graph"
   ]
  },
  {
   "cell_type": "code",
   "execution_count": null,
   "metadata": {},
   "outputs": [],
   "source": [
    "class Graph:\n",
    "    def __init__(self):\n",
    "        self.graph = {}\n",
    "    \n",
    "    def add_edge(self, u, v):\n",
    "        if u not in self.graph:\n",
    "            self.graph[u] = []\n",
    "        if v not in self.graph:\n",
    "            self.graph[v] = []\n",
    "\n",
    "        self.graph[u].append(v)\n",
    "        self.graph[v].append(u)\n",
    "\n",
    "    def display(self):\n",
    "        for node in self.graph:\n",
    "            print(f\"{node} -> {self.graph[node]}\")\n",
    "\n",
    "    def bfs(self, start):\n",
    "        visited = set()\n",
    "        queue = Queue()\n",
    "\n",
    "        bfs_result = []\n",
    "\n",
    "        while queue.is_empty():\n",
    "            vertex = queue.pop()\n",
    "            if vertex not in visited:\n",
    "                visited.add(vertex)\n",
    "                bfs_result.append(vertex)\n",
    "\n",
    "                for neighbour in self.graph[vertex]:\n",
    "                    if neighbour not in visited:\n",
    "                        visited.add(neighbour)\n",
    "                        queue.enqueue(neighbour)\n",
    "\n",
    "        return bfs_result\n",
    "\n",
    "class Node:\n",
    "    def __init__(self, data):\n",
    "        self.data = data\n",
    "        self.next = None\n",
    "\n",
    "class Queue:\n",
    "    def __init__(self):\n",
    "        self.front = None\n",
    "        self.rare = None\n",
    "        self.size = 0\n",
    "\n",
    "    def enqueue(self, data):\n",
    "        new_node = Node(data)\n",
    "        if self.rare is None:\n",
    "            self.front"
   ]
  },
  {
   "cell_type": "code",
   "execution_count": 3,
   "metadata": {},
   "outputs": [
    {
     "name": "stdout",
     "output_type": "stream",
     "text": [
      "A -> ['B', 'B', 'C']\n",
      "B -> ['A', 'A', 'C', 'C']\n",
      "C -> ['A', 'B', 'B']\n"
     ]
    }
   ],
   "source": [
    "tree_1 = Graph()\n",
    "tree_1.add_edge(\"A\", \"B\")\n",
    "tree_1.add_edge(\"B\", \"A\")\n",
    "tree_1.add_edge(\"A\", \"C\")\n",
    "tree_1.add_edge(\"C\", \"B\")\n",
    "tree_1.add_edge(\"B\", \"C\")\n",
    "\n",
    "tree_1.display()"
   ]
  },
  {
   "cell_type": "code",
   "execution_count": null,
   "metadata": {},
   "outputs": [],
   "source": []
  }
 ],
 "metadata": {
  "kernelspec": {
   "display_name": "Python 3",
   "language": "python",
   "name": "python3"
  },
  "language_info": {
   "codemirror_mode": {
    "name": "ipython",
    "version": 3
   },
   "file_extension": ".py",
   "mimetype": "text/x-python",
   "name": "python",
   "nbconvert_exporter": "python",
   "pygments_lexer": "ipython3",
   "version": "3.12.8"
  }
 },
 "nbformat": 4,
 "nbformat_minor": 2
}
